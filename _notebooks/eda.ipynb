{
 "metadata": {
  "language_info": {
   "codemirror_mode": {
    "name": "ipython",
    "version": 3
   },
   "file_extension": ".py",
   "mimetype": "text/x-python",
   "name": "python",
   "nbconvert_exporter": "python",
   "pygments_lexer": "ipython3",
   "version": 3
  },
  "orig_nbformat": 2
 },
 "nbformat": 4,
 "nbformat_minor": 2,
 "cells": [
  {
   "source": [
    "# Exploratory data analysis\n",
    "> Frost forecast. Inria Chile.\n",
    "\n",
    "- toc: true \n",
    "- badges: true\n",
    "- comments: true\n",
    "- author: Hernán Lira\n",
    "- categories: [jupyter]\n",
    "- image: images/chart-preview.png"
   ],
   "cell_type": "markdown",
   "metadata": {}
  },
  {
   "source": [
    "# About\n",
    "\n",
    "This notebook presents an initial analysis of data collected from Sep 4th. 2020 to May 31st 2021 in Parral regarding the Frost Forecast project."
   ],
   "cell_type": "markdown",
   "metadata": {}
  },
  {
   "source": [
    "## Describe sensors and motes"
   ],
   "cell_type": "markdown",
   "metadata": {}
  },
  {
   "source": [
    "## Visualize signals"
   ],
   "cell_type": "markdown",
   "metadata": {}
  },
  {
   "source": [
    "## % of data generated each day for each sensor - also weekly and monthly"
   ],
   "cell_type": "markdown",
   "metadata": {}
  },
  {
   "source": [
    "## Correlation"
   ],
   "cell_type": "markdown",
   "metadata": {}
  },
  {
   "source": [
    "## Time series analysis"
   ],
   "cell_type": "markdown",
   "metadata": {}
  },
  {
   "cell_type": "code",
   "execution_count": null,
   "metadata": {},
   "outputs": [],
   "source": []
  }
 ]
}